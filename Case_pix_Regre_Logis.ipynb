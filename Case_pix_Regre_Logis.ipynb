{
  "nbformat": 4,
  "nbformat_minor": 0,
  "metadata": {
    "colab": {
      "provenance": [],
      "authorship_tag": "ABX9TyOkA0CA0iIllJfiZF8Jq4J3",
      "include_colab_link": true
    },
    "kernelspec": {
      "name": "python3",
      "display_name": "Python 3"
    },
    "language_info": {
      "name": "python"
    }
  },
  "cells": [
    {
      "cell_type": "markdown",
      "metadata": {
        "id": "view-in-github",
        "colab_type": "text"
      },
      "source": [
        "<a href=\"https://colab.research.google.com/github/LucasJFaust/spark_projects/blob/main/Case_pix_Regre_Logis.ipynb\" target=\"_parent\"><img src=\"https://colab.research.google.com/assets/colab-badge.svg\" alt=\"Open In Colab\"/></a>"
      ]
    },
    {
      "cell_type": "markdown",
      "source": [
        "# Case\n",
        "## Análise de Transações PIX\n",
        "CRISP-DM\n",
        "### Objetivos\n",
        "- Limpar e pré-processar os dados das transações PIX\n",
        "- Analisar padrões de uso do PIX, tais como os canais mais utilizados e os valores de transação mais comuns\n",
        "- Use o PySpark MLlib para treinar e avaliar um modelo de detecção de fraude\n",
        "- Avaliar o desempenho do modelo e fazer recomendações para melhorias futuras\n",
        "\n",
        "### Dados\n",
        "\n",
        "O conjunto de dados inclui as seguintes informações para cada transação:\n",
        "- Detalhes da transação: valor, tempo, remetente e receptor CPF/CNPJ, tipo\n",
        "- Etiqueta de fraude: uma variável binária que indica se a transação foi fraudulenta (1) ou não (0)\n",
        "\n",
        "### Tarefas\n",
        "- Normalização dos dados:\n",
        "  - O dataset que você lerá está em formato json.\n",
        "  ```json\n",
        "  {\n",
        "      \"id_transacao\": inteiro,\n",
        "      \"valor\": texto,\n",
        "      \"remetente\": {\n",
        "          \"nome\": texto,\n",
        "          \"banco\": texto,\n",
        "          \"tipo\": texto\n",
        "      },\n",
        "      \"destinatario\": {\n",
        "          \"nome\": texto,\n",
        "          \"banco\":texto,\n",
        "          \"tipo\": texto\n",
        "      },          \n",
        "      \"categoria\":texto,\n",
        "      \"chave_pix\":texto,\n",
        "      \"transaction_date\":texto,\n",
        "      \"fraude\":inteiro,\n",
        "  }\n",
        "    ```\n",
        "  - Faça sua transformação para formato colunar\n",
        "- Análise Exploratória de Dados: Use o PySpark para analisar padrões de uso do PIX:\n",
        "  - chaves pix mais usadas;\n",
        "  - os valores de transação mais comuns;\n",
        "  - distribuição dos valores de transação por hora e dia;\n",
        "  - quais bancos receberam mais transferências por dia;\n",
        "  - para qual tipo de pessoa (PF ou PJ) foram realizadas mais transações\n",
        "- Engenharia de Recursos: Apresentar novas características que podem ser úteis para a detecção de fraudes, tais como o número de transações feitas pelo mesmo remetente em um período de tempo específico.\n",
        "- Modelagem: Use o PySpark MLlib para treinar e detectar possíveis transações que contenham fraude.\n",
        "\n",
        "### Observação\n",
        "É importante notar que este é um caso simplificado, e em cenários do mundo real você teria que lidar com dados mais complexos, usar técnicas mais avançadas como métodos de conjuntos e considerar o conhecimento de domínio, bem como leis e regulamentos das instituições financeiras no Brasil.\n",
        "\n",
        "\n",
        "### Observação II\n",
        "Não existe resposta 100% correta. É necessário que você use seu pensamento crítico para definir as melhores métricas e análises para o caso."
      ],
      "metadata": {
        "id": "YrzxZeZ-iJlJ"
      }
    },
    {
      "cell_type": "markdown",
      "source": [
        "# Entendimento do Negócio\n",
        "Você trabalha em um banco e o principal meio de pagamento utilizado no seu banco é o Pix.\n",
        "\n",
        "Através da base de transações do pix o banco deseja entender qual é o perfil dos clientes que utilizam o pix, além de verificar possíveis transações que tenham fraude. Porém, eles tem um cliente específico que tem um relacionamento muito bom para o banco, por isso, você recebeu a base de transações de cliente dos últimos 2 anos e precisa a partir dela criar um relatório contendo as principais características das transações.\n",
        "\n",
        "\n",
        "Então, resumindo, temos dois principais objetivos para esse case:\n",
        "1. Obter valor a partir dos dados\n",
        "  - Para qual banco esse cliente mais transfere?\n",
        "  - Qual é a média de transferências por período que esse cliente faz?\n",
        "  - Baseando-se no valor das transferências, poderia dar um aumento de crédito?\n",
        "  - Para o que esse cliente mais usa as transferências?\n",
        "2. Executar um algoritmo de machine learning que identifique possíveis transações com fraude.\n",
        "3. Pós Processamento\n",
        "  - Defina ao mínimo cinco métricas de qualidade para seus dados\n",
        "  - Explique se os seus dados estão com uma boa qualidade"
      ],
      "metadata": {
        "id": "2fivlhenkv5T"
      }
    },
    {
      "cell_type": "markdown",
      "source": [
        "# Preparação do Ambiente de Desenvolvimento"
      ],
      "metadata": {
        "id": "8HR_6je3k2yu"
      }
    },
    {
      "cell_type": "code",
      "execution_count": 1,
      "metadata": {
        "colab": {
          "base_uri": "https://localhost:8080/"
        },
        "id": "10OZZB6OiC0K",
        "outputId": "76fdb6f4-af79-41dc-927b-a18319b8ff39"
      },
      "outputs": [
        {
          "output_type": "stream",
          "name": "stdout",
          "text": [
            "Collecting pyspark\n",
            "  Downloading pyspark-3.5.1.tar.gz (317.0 MB)\n",
            "\u001b[2K     \u001b[90m━━━━━━━━━━━━━━━━━━━━━━━━━━━━━━━━━━━━━━━━\u001b[0m \u001b[32m317.0/317.0 MB\u001b[0m \u001b[31m2.5 MB/s\u001b[0m eta \u001b[36m0:00:00\u001b[0m\n",
            "\u001b[?25h  Preparing metadata (setup.py) ... \u001b[?25l\u001b[?25hdone\n",
            "Requirement already satisfied: py4j==0.10.9.7 in /usr/local/lib/python3.10/dist-packages (from pyspark) (0.10.9.7)\n",
            "Building wheels for collected packages: pyspark\n",
            "  Building wheel for pyspark (setup.py) ... \u001b[?25l\u001b[?25hdone\n",
            "  Created wheel for pyspark: filename=pyspark-3.5.1-py2.py3-none-any.whl size=317488491 sha256=2fd57a5f56013848e2947f50c8ae42ea6eb3a3a12ed38bd39f9b8f8c57faad26\n",
            "  Stored in directory: /root/.cache/pip/wheels/80/1d/60/2c256ed38dddce2fdd93be545214a63e02fbd8d74fb0b7f3a6\n",
            "Successfully built pyspark\n",
            "Installing collected packages: pyspark\n",
            "Successfully installed pyspark-3.5.1\n",
            "Authtoken saved to configuration file: /root/.ngrok2/ngrok.yml\n"
          ]
        }
      ],
      "source": [
        "# Instalar a última versão do PySpark\n",
        "!pip install pyspark #==3.3.1\n",
        "\n",
        "# Instalar o NGROK\n",
        "!wget -qnc https://bin.equinox.io/c/4VmDzA7iaHb/ngrok-stable-linux-amd64.zip\n",
        "!unzip -n -q ngrok-stable-linux-amd64.zip\n",
        "\n",
        "# Autenticar a sessão do SparkUI com NGROK\n",
        "!./ngrok authtoken 2fQl2pcXUL5uSLm773AvMAigDtb_7RR7VwxVaUERSnbAz3U1k\n",
        "get_ipython().system_raw('./ngrok http 4050 &')\n",
        "!sleep 10\n",
        "!curl -s http://localhost:4040/api/tunnels | grep -Po 'public_url\":\"(?=https)\\K[^\"]*'"
      ]
    },
    {
      "cell_type": "markdown",
      "source": [
        "# Data Undesrtanting\n",
        "\n",
        "Primeiramente, devemos entender tudo sobre a fonte dos dados\n",
        "- Como o dado chega até nós?\n",
        "- Qual formato virá?\n",
        "- Aonde o processamento será executado (AWS EMR, Cluster On-Premise)?\n",
        "- De quanto em quanto tempo eu preciso gerar esse relatório (mensal, diário, near-real time)?\n",
        "\n",
        "```json\n",
        "{\n",
        "  \"id_transacao\": inteiro,\n",
        "  \"valor\": texto,\n",
        "  \"remetente\": {\n",
        "      \"nome\": texto,\n",
        "      \"banco\": texto,\n",
        "      \"tipo\": texto\n",
        "  },\n",
        "  \"destinatario\": {\n",
        "      \"nome\": texto,\n",
        "      \"banco\":texto,\n",
        "      \"tipo\": texto\n",
        "  },\n",
        "  \"categoria\": texto,\n",
        "  \"transaction_date\":texto,\n",
        "  \"chave_pix\":texto,\n",
        "  \"fraude\":inteiro,\n",
        "}\n",
        "```"
      ],
      "metadata": {
        "id": "g6-bHTAclIq6"
      }
    },
    {
      "cell_type": "markdown",
      "source": [
        "# Preparação dos Dados\n",
        "Agora é hora de começar a preparar os dados de acordo com as suas necessidades."
      ],
      "metadata": {
        "id": "nR0GrUnlt4NC"
      }
    },
    {
      "cell_type": "code",
      "source": [
        "# Iniciar a sessão spark\n",
        "from pyspark.sql import SparkSession\n",
        "\n",
        "spark = (\n",
        "    SparkSession.builder\n",
        "      .config('spark.ui.port', '4050')\n",
        "      .appName(\"CaseFinal\")\n",
        "      .getOrCreate()\n",
        ")"
      ],
      "metadata": {
        "id": "XIFpOFQ6lHf9"
      },
      "execution_count": 2,
      "outputs": []
    },
    {
      "cell_type": "code",
      "source": [
        "from pyspark.sql.types import *\n",
        "\n",
        "caminho_json = '/content/case_final.json'\n",
        "\n",
        "#Começamos criando os schemas para estruturar o json:\n",
        "\n",
        "schema_remetente_destinatario = StructType([\n",
        "    StructField('nome', StringType()),\n",
        "    StructField('banco', StringType()),\n",
        "    StructField('tipo', StringType())\n",
        "])\n",
        "\n",
        "\n",
        "schema_base_pix = StructType([\n",
        "    StructField('id_transacao', IntegerType()),\n",
        "    StructField('valor', DoubleType()),\n",
        "    StructField('remetente', schema_remetente_destinatario),\n",
        "    StructField('destinatario', schema_remetente_destinatario),\n",
        "    StructField('chave_pix', StringType()),\n",
        "    StructField('categoria', StringType()),\n",
        "    StructField('transaction_date', StringType()),\n",
        "    StructField('fraude', IntegerType())\n",
        "])\n",
        "\n",
        "\n",
        "# 2022-10-20 10:57:36\n",
        "\n",
        "df = spark.read.json(\n",
        "    caminho_json,\n",
        "    schema=schema_base_pix,\n",
        "    timestampFormat=\"yyyy-MM-dd HH:mm:ss\",\n",
        ")"
      ],
      "metadata": {
        "id": "KpWE1w_zt-lA"
      },
      "execution_count": 3,
      "outputs": []
    },
    {
      "cell_type": "code",
      "source": [
        "df.printSchema()"
      ],
      "metadata": {
        "colab": {
          "base_uri": "https://localhost:8080/"
        },
        "id": "4ctWCGCxue06",
        "outputId": "78a557c5-4f1e-438c-d8f2-b5673ea0173c"
      },
      "execution_count": 4,
      "outputs": [
        {
          "output_type": "stream",
          "name": "stdout",
          "text": [
            "root\n",
            " |-- id_transacao: integer (nullable = true)\n",
            " |-- valor: double (nullable = true)\n",
            " |-- remetente: struct (nullable = true)\n",
            " |    |-- nome: string (nullable = true)\n",
            " |    |-- banco: string (nullable = true)\n",
            " |    |-- tipo: string (nullable = true)\n",
            " |-- destinatario: struct (nullable = true)\n",
            " |    |-- nome: string (nullable = true)\n",
            " |    |-- banco: string (nullable = true)\n",
            " |    |-- tipo: string (nullable = true)\n",
            " |-- chave_pix: string (nullable = true)\n",
            " |-- categoria: string (nullable = true)\n",
            " |-- transaction_date: string (nullable = true)\n",
            " |-- fraude: integer (nullable = true)\n",
            "\n"
          ]
        }
      ]
    },
    {
      "cell_type": "code",
      "source": [
        "df.show()"
      ],
      "metadata": {
        "colab": {
          "base_uri": "https://localhost:8080/"
        },
        "id": "LStOlFhUu9jp",
        "outputId": "83edfee2-5f12-4ea0-96ba-0ff0fa58ce68"
      },
      "execution_count": 5,
      "outputs": [
        {
          "output_type": "stream",
          "name": "stdout",
          "text": [
            "+------------+------------------+--------------------+--------------------+---------+-------------+-------------------+------+\n",
            "|id_transacao|             valor|           remetente|        destinatario|chave_pix|    categoria|   transaction_date|fraude|\n",
            "+------------+------------------+--------------------+--------------------+---------+-------------+-------------------+------+\n",
            "|        1000|            588.08|{Jonathan Gonsalv...|{Calebe Melo, Cai...|aleatoria|       outros|2021-07-16 05:00:55|     0|\n",
            "|        1001|           80682.5|{Jonathan Gonsalv...|{Davi Lucas Perei...|  celular|transferencia|2022-04-20 12:34:01|     1|\n",
            "|        1002|             549.9|{Jonathan Gonsalv...|{Sabrina Castro, ...|      cpf|        lazer|2022-07-10 16:51:34|     0|\n",
            "|        1003|             90.83|{Jonathan Gonsalv...|{Francisco da Con...|aleatoria|   transporte|2022-10-20 10:57:36|     0|\n",
            "|        1004|13272.619999999999|{Jonathan Gonsalv...|{Isabelly Ferreir...|    email|transferencia|2021-04-06 20:26:51|     0|\n",
            "|        1005|           9347.58|{Jonathan Gonsalv...|{Srta. Maria da C...|aleatoria|        saude|2022-07-24 15:22:27|     0|\n",
            "|        1006|           7836.76|{Jonathan Gonsalv...|{Catarina Duarte,...|      cpf|    presentes|2022-10-05 19:20:24|     0|\n",
            "|        1007|           3883.62|{Jonathan Gonsalv...|{Vitor Correia, X...|      cpf|    vestuario|2021-04-24 17:36:34|     0|\n",
            "|        1008|               4.0|{Jonathan Gonsalv...|{Theo Novaes, C6,...|aleatoria|        saude|2021-11-16 21:46:47|     0|\n",
            "|        1009|              24.3|{Jonathan Gonsalv...|{Isabel Caldeira,...|      cpf|transferencia|2021-07-26 02:08:49|     0|\n",
            "|        1010|           87555.3|{Jonathan Gonsalv...|{Sr. Henrique Car...|aleatoria|transferencia|2022-03-14 15:34:45|     1|\n",
            "|        1011|          21345.91|{Jonathan Gonsalv...|{Felipe Cavalcant...|      cpf|transferencia|2021-10-31 04:31:51|     1|\n",
            "|        1012|          73605.85|{Jonathan Gonsalv...|{Dr. Davi da Luz,...|  celular|transferencia|2021-04-30 19:19:56|     1|\n",
            "|        1013|             93.53|{Jonathan Gonsalv...|{Stephany Cardoso...|      cpf|  alimentacao|2023-01-13 13:39:57|     0|\n",
            "|        1014|            564.11|{Jonathan Gonsalv...|{Sra. Julia Arauj...|aleatoria|    vestuario|2022-05-27 23:06:08|     0|\n",
            "|        1015|              3.59|{Jonathan Gonsalv...|{Carolina Farias,...|    email|        saude|2021-10-06 21:19:58|     0|\n",
            "|        1016|          19164.89|{Jonathan Gonsalv...|{Isabelly da Cost...|    email|  alimentacao|2022-03-06 17:59:43|     0|\n",
            "|        1017|             68.45|{Jonathan Gonsalv...|{Joao Miguel Silv...|aleatoria|    vestuario|2022-04-01 18:17:40|     0|\n",
            "|        1018|            941.25|{Jonathan Gonsalv...|{Matheus Moura, C...|  celular|    vestuario|2022-05-23 00:28:13|     0|\n",
            "|        1019|27009.910000000003|{Jonathan Gonsalv...|{Gabrielly Goncal...|    email|transferencia|2021-08-04 23:22:37|     1|\n",
            "+------------+------------------+--------------------+--------------------+---------+-------------+-------------------+------+\n",
            "only showing top 20 rows\n",
            "\n"
          ]
        }
      ]
    },
    {
      "cell_type": "code",
      "source": [
        "from pyspark.sql.functions import col\n",
        "# Agora temos que trabalhar as colunas remetente e destinatário com o flatten para não termos nenhuma subestrutura dentro das colunas:\n",
        "\n",
        "df_flatten = df.withColumns({\n",
        "    'remetente_nome':  col('remetente').getField('nome'),\n",
        "    'remetente_banco':  col('remetente').getField('banco'),\n",
        "    'remetente_tipo':  col('remetente').getField('tipo'),\n",
        "    'destinatario_nome':  col('destinatario').getField('nome'),\n",
        "    'destinatario_banco':  col('destinatario').getField('banco'),\n",
        "    'destinatario_tipo':  col('destinatario').getField('tipo'),\n",
        "}).drop('remetente', 'destinatario')"
      ],
      "metadata": {
        "id": "eiGrPLruvIPs"
      },
      "execution_count": 6,
      "outputs": []
    },
    {
      "cell_type": "code",
      "source": [
        "df_flatten.printSchema()\n",
        "\n",
        "df_flatten.show()"
      ],
      "metadata": {
        "colab": {
          "base_uri": "https://localhost:8080/"
        },
        "id": "_klw1xoOvV-M",
        "outputId": "28d76031-eb69-4bbf-8a7d-976a1502dc2e"
      },
      "execution_count": 7,
      "outputs": [
        {
          "output_type": "stream",
          "name": "stdout",
          "text": [
            "root\n",
            " |-- id_transacao: integer (nullable = true)\n",
            " |-- valor: double (nullable = true)\n",
            " |-- chave_pix: string (nullable = true)\n",
            " |-- categoria: string (nullable = true)\n",
            " |-- transaction_date: string (nullable = true)\n",
            " |-- fraude: integer (nullable = true)\n",
            " |-- remetente_nome: string (nullable = true)\n",
            " |-- remetente_banco: string (nullable = true)\n",
            " |-- remetente_tipo: string (nullable = true)\n",
            " |-- destinatario_nome: string (nullable = true)\n",
            " |-- destinatario_banco: string (nullable = true)\n",
            " |-- destinatario_tipo: string (nullable = true)\n",
            "\n",
            "+------------+------------------+---------+-------------+-------------------+------+------------------+---------------+--------------+--------------------+------------------+-----------------+\n",
            "|id_transacao|             valor|chave_pix|    categoria|   transaction_date|fraude|    remetente_nome|remetente_banco|remetente_tipo|   destinatario_nome|destinatario_banco|destinatario_tipo|\n",
            "+------------+------------------+---------+-------------+-------------------+------+------------------+---------------+--------------+--------------------+------------------+-----------------+\n",
            "|        1000|            588.08|aleatoria|       outros|2021-07-16 05:00:55|     0|Jonathan Gonsalves|            BTG|            PF|         Calebe Melo|             Caixa|               PF|\n",
            "|        1001|           80682.5|  celular|transferencia|2022-04-20 12:34:01|     1|Jonathan Gonsalves|            BTG|            PF|  Davi Lucas Pereira|             Caixa|               PJ|\n",
            "|        1002|             549.9|      cpf|        lazer|2022-07-10 16:51:34|     0|Jonathan Gonsalves|            BTG|            PF|      Sabrina Castro|            Nubank|               PF|\n",
            "|        1003|             90.83|aleatoria|   transporte|2022-10-20 10:57:36|     0|Jonathan Gonsalves|            BTG|            PF|Francisco da Conc...|            Nubank|               PJ|\n",
            "|        1004|13272.619999999999|    email|transferencia|2021-04-06 20:26:51|     0|Jonathan Gonsalves|            BTG|            PF|   Isabelly Ferreira|               BTG|               PJ|\n",
            "|        1005|           9347.58|aleatoria|        saude|2022-07-24 15:22:27|     0|Jonathan Gonsalves|            BTG|            PF|Srta. Maria da Cunha|              Itau|               PJ|\n",
            "|        1006|           7836.76|      cpf|    presentes|2022-10-05 19:20:24|     0|Jonathan Gonsalves|            BTG|            PF|     Catarina Duarte|                C6|               PF|\n",
            "|        1007|           3883.62|      cpf|    vestuario|2021-04-24 17:36:34|     0|Jonathan Gonsalves|            BTG|            PF|       Vitor Correia|                XP|               PJ|\n",
            "|        1008|               4.0|aleatoria|        saude|2021-11-16 21:46:47|     0|Jonathan Gonsalves|            BTG|            PF|         Theo Novaes|                C6|               PJ|\n",
            "|        1009|              24.3|      cpf|transferencia|2021-07-26 02:08:49|     0|Jonathan Gonsalves|            BTG|            PF|     Isabel Caldeira|                XP|               PJ|\n",
            "|        1010|           87555.3|aleatoria|transferencia|2022-03-14 15:34:45|     1|Jonathan Gonsalves|            BTG|            PF|Sr. Henrique Cardoso|            Nubank|               PF|\n",
            "|        1011|          21345.91|      cpf|transferencia|2021-10-31 04:31:51|     1|Jonathan Gonsalves|            BTG|            PF|   Felipe Cavalcanti|            Nubank|               PJ|\n",
            "|        1012|          73605.85|  celular|transferencia|2021-04-30 19:19:56|     1|Jonathan Gonsalves|            BTG|            PF|     Dr. Davi da Luz|          Bradesco|               PJ|\n",
            "|        1013|             93.53|      cpf|  alimentacao|2023-01-13 13:39:57|     0|Jonathan Gonsalves|            BTG|            PF|    Stephany Cardoso|                C6|               PJ|\n",
            "|        1014|            564.11|aleatoria|    vestuario|2022-05-27 23:06:08|     0|Jonathan Gonsalves|            BTG|            PF|   Sra. Julia Araujo|              Itau|               PJ|\n",
            "|        1015|              3.59|    email|        saude|2021-10-06 21:19:58|     0|Jonathan Gonsalves|            BTG|            PF|     Carolina Farias|            Nubank|               PJ|\n",
            "|        1016|          19164.89|    email|  alimentacao|2022-03-06 17:59:43|     0|Jonathan Gonsalves|            BTG|            PF|   Isabelly da Costa|            Nubank|               PJ|\n",
            "|        1017|             68.45|aleatoria|    vestuario|2022-04-01 18:17:40|     0|Jonathan Gonsalves|            BTG|            PF|Joao Miguel Silveira|                C6|               PJ|\n",
            "|        1018|            941.25|  celular|    vestuario|2022-05-23 00:28:13|     0|Jonathan Gonsalves|            BTG|            PF|       Matheus Moura|                C6|               PF|\n",
            "|        1019|27009.910000000003|    email|transferencia|2021-08-04 23:22:37|     1|Jonathan Gonsalves|            BTG|            PF| Gabrielly Goncalves|              Itau|               PJ|\n",
            "+------------+------------------+---------+-------------+-------------------+------+------------------+---------------+--------------+--------------------+------------------+-----------------+\n",
            "only showing top 20 rows\n",
            "\n"
          ]
        }
      ]
    },
    {
      "cell_type": "code",
      "source": [
        "df_flatten.describe().show()"
      ],
      "metadata": {
        "colab": {
          "base_uri": "https://localhost:8080/"
        },
        "id": "QWHAzv3SvnHQ",
        "outputId": "33f170fe-c8d4-42b4-d21d-49a7249246eb"
      },
      "execution_count": 8,
      "outputs": [
        {
          "output_type": "stream",
          "name": "stdout",
          "text": [
            "+-------+-----------------+------------------+---------+-----------+-------------------+------------------+------------------+---------------+--------------+-----------------+------------------+-----------------+\n",
            "|summary|     id_transacao|             valor|chave_pix|  categoria|   transaction_date|            fraude|    remetente_nome|remetente_banco|remetente_tipo|destinatario_nome|destinatario_banco|destinatario_tipo|\n",
            "+-------+-----------------+------------------+---------+-----------+-------------------+------------------+------------------+---------------+--------------+-----------------+------------------+-----------------+\n",
            "|  count|           100000|            100000|   100000|     100000|             100000|            100000|            100000|         100000|        100000|           100000|            100000|           100000|\n",
            "|   mean|          50999.5|10303.358732200059|     NULL|       NULL|               NULL|           0.15367|              NULL|           NULL|          NULL|             NULL|              NULL|             NULL|\n",
            "| stddev|28867.65779668774| 20874.99768875586|     NULL|       NULL|               NULL|0.3606339302787737|              NULL|           NULL|          NULL|             NULL|              NULL|             NULL|\n",
            "|    min|             1000|               0.0|aleatoria|alimentacao|2021-01-14 15:37:45|                 0|Jonathan Gonsalves|            BTG|            PF|   Agatha Almeida|               BTG|               PF|\n",
            "|    max|           100999|          89996.33|    email|  vestuario|2023-01-15 02:51:10|                 1|Jonathan Gonsalves|            BTG|            PF|   Yuri das Neves|                XP|               PJ|\n",
            "+-------+-----------------+------------------+---------+-----------+-------------------+------------------+------------------+---------------+--------------+-----------------+------------------+-----------------+\n",
            "\n"
          ]
        }
      ]
    },
    {
      "cell_type": "markdown",
      "source": [
        "# Modelagem\n",
        "Aqui você encontrará utilidade para os dados levantados.\n",
        "\n",
        "Aqui será onde teremos insights e, a partir desses, novos conhecimentos sobre o business (se tudo até aqui foi feito corretamente).\n",
        "\n",
        "\n",
        "- Para qual banco esse cliente mais transfere?\n",
        "- Qual é a média de transferências por período que esse cliente faz?\n",
        "- Baseando-se no valor das transferências, poderia dar um aumento de crédito?\n",
        "- Para o que esse cliente mais usa as transferências?\n",
        "- Executar um algoritmo de machine learning que identifique possíveis transações com fraude.\n"
      ],
      "metadata": {
        "id": "JnoGvAbyu73j"
      }
    },
    {
      "cell_type": "code",
      "source": [
        "df_flatten.groupBy('destinatario_banco').count().orderBy('count').show()"
      ],
      "metadata": {
        "colab": {
          "base_uri": "https://localhost:8080/"
        },
        "id": "vIt_tI36wDaA",
        "outputId": "300fd246-f6e9-4455-9248-17f9e40ed554"
      },
      "execution_count": 9,
      "outputs": [
        {
          "output_type": "stream",
          "name": "stdout",
          "text": [
            "+------------------+-----+\n",
            "|destinatario_banco|count|\n",
            "+------------------+-----+\n",
            "|          Bradesco|14187|\n",
            "|                C6|14204|\n",
            "|             Caixa|14240|\n",
            "|              Itau|14281|\n",
            "|            Nubank|14297|\n",
            "|               BTG|14390|\n",
            "|                XP|14401|\n",
            "+------------------+-----+\n",
            "\n"
          ]
        }
      ]
    },
    {
      "cell_type": "code",
      "source": [
        "from pyspark.sql.functions import date_format\n",
        "\n",
        "df_flatten.groupBy(\n",
        "    date_format(col('transaction_date'), 'yyyy-MM').alias('ano_mes'),\n",
        "    'destinatario_banco'\n",
        ").count().orderBy(col('ano_mes').desc()).show()"
      ],
      "metadata": {
        "colab": {
          "base_uri": "https://localhost:8080/"
        },
        "id": "dqmlhbHUwHoq",
        "outputId": "7af25514-4219-46c7-e011-6137678944e9"
      },
      "execution_count": 10,
      "outputs": [
        {
          "output_type": "stream",
          "name": "stdout",
          "text": [
            "+-------+------------------+-----+\n",
            "|ano_mes|destinatario_banco|count|\n",
            "+-------+------------------+-----+\n",
            "|2023-01|              Itau|  267|\n",
            "|2023-01|             Caixa|  277|\n",
            "|2023-01|                XP|  277|\n",
            "|2023-01|          Bradesco|  280|\n",
            "|2023-01|            Nubank|  290|\n",
            "|2023-01|                C6|  290|\n",
            "|2023-01|               BTG|  278|\n",
            "|2022-12|                XP|  615|\n",
            "|2022-12|               BTG|  603|\n",
            "|2022-12|                C6|  576|\n",
            "|2022-12|          Bradesco|  575|\n",
            "|2022-12|            Nubank|  602|\n",
            "|2022-12|              Itau|  633|\n",
            "|2022-12|             Caixa|  616|\n",
            "|2022-11|          Bradesco|  579|\n",
            "|2022-11|               BTG|  580|\n",
            "|2022-11|              Itau|  614|\n",
            "|2022-11|            Nubank|  620|\n",
            "|2022-11|             Caixa|  543|\n",
            "|2022-11|                C6|  561|\n",
            "+-------+------------------+-----+\n",
            "only showing top 20 rows\n",
            "\n"
          ]
        }
      ]
    },
    {
      "cell_type": "code",
      "source": [
        "df_flatten.groupBy(\n",
        "    'destinatario_banco'\n",
        ").avg('valor').orderBy('avg(valor)').show()"
      ],
      "metadata": {
        "colab": {
          "base_uri": "https://localhost:8080/"
        },
        "id": "GvNWsnUPwTRi",
        "outputId": "2829a468-f0c0-4ada-92bb-23a36d93fa1a"
      },
      "execution_count": 11,
      "outputs": [
        {
          "output_type": "stream",
          "name": "stdout",
          "text": [
            "+------------------+------------------+\n",
            "|destinatario_banco|        avg(valor)|\n",
            "+------------------+------------------+\n",
            "|               BTG|10122.299803335622|\n",
            "|              Itau|10230.876305580874|\n",
            "|             Caixa|10254.864015449395|\n",
            "|                C6|10309.499774711307|\n",
            "|            Nubank|10316.475401133126|\n",
            "|                XP|10328.071572113045|\n",
            "|          Bradesco| 10564.19458870794|\n",
            "+------------------+------------------+\n",
            "\n"
          ]
        }
      ]
    },
    {
      "cell_type": "code",
      "source": [
        "df_flatten.groupBy(\n",
        "    date_format(col('transaction_date'), 'yyyy-MM').alias('ano_mes'),\n",
        "    'destinatario_banco',\n",
        "    'categoria'\n",
        ").count().orderBy('ano_mes').show()"
      ],
      "metadata": {
        "colab": {
          "base_uri": "https://localhost:8080/"
        },
        "id": "C7g_EXB2wZPI",
        "outputId": "2af87012-23ff-420e-bec1-2af38240b655"
      },
      "execution_count": 12,
      "outputs": [
        {
          "output_type": "stream",
          "name": "stdout",
          "text": [
            "+-------+------------------+-------------+-----+\n",
            "|ano_mes|destinatario_banco|    categoria|count|\n",
            "+-------+------------------+-------------+-----+\n",
            "|2021-01|             Caixa|     educacao|   24|\n",
            "|2021-01|              Itau|        saude|   40|\n",
            "|2021-01|            Nubank|        saude|   28|\n",
            "|2021-01|                XP|    presentes|   38|\n",
            "|2021-01|               BTG|   transporte|   29|\n",
            "|2021-01|               BTG|  alimentacao|   31|\n",
            "|2021-01|              Itau|transferencia|   75|\n",
            "|2021-01|                XP|       outros|   34|\n",
            "|2021-01|                XP|   transporte|   26|\n",
            "|2021-01|          Bradesco|transferencia|   96|\n",
            "|2021-01|              Itau|    vestuario|   28|\n",
            "|2021-01|               BTG|        lazer|   34|\n",
            "|2021-01|          Bradesco|   transporte|   40|\n",
            "|2021-01|                XP|transferencia|   89|\n",
            "|2021-01|                C6|  alimentacao|   38|\n",
            "|2021-01|             Caixa|        lazer|   37|\n",
            "|2021-01|          Bradesco|       outros|   25|\n",
            "|2021-01|            Nubank|    presentes|   33|\n",
            "|2021-01|                C6|transferencia|   87|\n",
            "|2021-01|             Caixa|       outros|   38|\n",
            "+-------+------------------+-------------+-----+\n",
            "only showing top 20 rows\n",
            "\n"
          ]
        }
      ]
    },
    {
      "cell_type": "code",
      "source": [
        "# soma de quanto ele gasta em cada categoria por mês\n",
        "from pyspark.sql.functions import date_format\n",
        "\n",
        "df_flatten.groupBy(\n",
        "    date_format(col('transaction_date'), 'yyyy').alias('ano'),\n",
        "    'categoria'\n",
        ").sum('valor').select('ano', 'categoria', col('sum(valor)').cast(DecimalType(38, 3)).alias('valor')).orderBy('valor').show(30)"
      ],
      "metadata": {
        "colab": {
          "base_uri": "https://localhost:8080/"
        },
        "id": "ZUNW8ifQwkPA",
        "outputId": "6b7030aa-ae28-4366-9f62-f0a900181476"
      },
      "execution_count": 13,
      "outputs": [
        {
          "output_type": "stream",
          "name": "stdout",
          "text": [
            "+----+-------------+-------------+\n",
            "| ano|    categoria|        valor|\n",
            "+----+-------------+-------------+\n",
            "|2023|    presentes|   362584.450|\n",
            "|2023|  alimentacao|   392078.310|\n",
            "|2023|        saude|   400683.640|\n",
            "|2023|   transporte|   427790.540|\n",
            "|2023|     educacao|   432305.660|\n",
            "|2023|    vestuario|   459528.700|\n",
            "|2023|        lazer|   469671.410|\n",
            "|2023|       outros|   501308.340|\n",
            "|2021|   transporte|  9497893.470|\n",
            "|2021|        lazer|  9622503.140|\n",
            "|2021|       outros|  9737076.380|\n",
            "|2022|        saude| 10048245.070|\n",
            "|2021|     educacao| 10106095.070|\n",
            "|2021|  alimentacao| 10237928.250|\n",
            "|2022|        lazer| 10295747.630|\n",
            "|2022|    presentes| 10311585.740|\n",
            "|2022|     educacao| 10367124.440|\n",
            "|2021|        saude| 10384662.820|\n",
            "|2021|    vestuario| 10412651.930|\n",
            "|2021|    presentes| 10496042.020|\n",
            "|2022|  alimentacao| 10545783.230|\n",
            "|2022|   transporte| 10553408.290|\n",
            "|2022|       outros| 10566645.100|\n",
            "|2022|    vestuario| 10696006.480|\n",
            "|2023|transferencia| 16148682.620|\n",
            "|2021|transferencia|416670741.700|\n",
            "|2022|transferencia|430191098.790|\n",
            "+----+-------------+-------------+\n",
            "\n"
          ]
        }
      ]
    },
    {
      "cell_type": "code",
      "source": [
        "# média de transferencia por período\n",
        "\n",
        "from pyspark.sql.functions import date_format\n",
        "\n",
        "df_flatten.groupBy(\n",
        "    date_format(col('transaction_date'), 'yyyy').alias('ano')\n",
        ").avg('id_transacao').select('ano',col('avg(id_transacao)').alias('avg')).orderBy('ano').show(30)"
      ],
      "metadata": {
        "colab": {
          "base_uri": "https://localhost:8080/"
        },
        "id": "7-exuQATwnda",
        "outputId": "691bb7ab-718a-403e-ae22-6dc385d6465f"
      },
      "execution_count": 14,
      "outputs": [
        {
          "output_type": "stream",
          "name": "stdout",
          "text": [
            "+----+------------------+\n",
            "| ano|               avg|\n",
            "+----+------------------+\n",
            "|2021| 51204.03597092333|\n",
            "|2022|50823.494263441935|\n",
            "|2023| 50481.67993874426|\n",
            "+----+------------------+\n",
            "\n"
          ]
        }
      ]
    },
    {
      "cell_type": "code",
      "source": [
        "df_flatten.groupBy('fraude').count().show()"
      ],
      "metadata": {
        "colab": {
          "base_uri": "https://localhost:8080/"
        },
        "id": "fecTUBiUw1zC",
        "outputId": "82d6a4c6-03f7-4a87-f422-bea985bbac17"
      },
      "execution_count": 15,
      "outputs": [
        {
          "output_type": "stream",
          "name": "stdout",
          "text": [
            "+------+-----+\n",
            "|fraude|count|\n",
            "+------+-----+\n",
            "|     1|15367|\n",
            "|     0|84633|\n",
            "+------+-----+\n",
            "\n"
          ]
        }
      ]
    },
    {
      "cell_type": "code",
      "source": [
        "df_flatten.groupBy('categoria', 'fraude').count().show()"
      ],
      "metadata": {
        "colab": {
          "base_uri": "https://localhost:8080/"
        },
        "id": "7uw5k9spw3hV",
        "outputId": "51e2ff6f-150c-4c6d-97cd-fd9831e0a5b5"
      },
      "execution_count": 16,
      "outputs": [
        {
          "output_type": "stream",
          "name": "stdout",
          "text": [
            "+-------------+------+-----+\n",
            "|    categoria|fraude|count|\n",
            "+-------------+------+-----+\n",
            "|       outros|     0| 9377|\n",
            "|     educacao|     0| 9460|\n",
            "|transferencia|     0| 9377|\n",
            "|transferencia|     1|15367|\n",
            "|    presentes|     0| 9254|\n",
            "|        saude|     0| 9476|\n",
            "|        lazer|     0| 9464|\n",
            "|   transporte|     0| 9174|\n",
            "|    vestuario|     0| 9503|\n",
            "|  alimentacao|     0| 9548|\n",
            "+-------------+------+-----+\n",
            "\n"
          ]
        }
      ]
    },
    {
      "cell_type": "code",
      "source": [
        "df_flatten.filter(\n",
        "    col('categoria') == 'transferencia'\n",
        ").groupBy('categoria', 'fraude').count().show()"
      ],
      "metadata": {
        "colab": {
          "base_uri": "https://localhost:8080/"
        },
        "id": "H8gIMNx8w6ae",
        "outputId": "f19b80cf-939d-443c-e548-dd38fb242e50"
      },
      "execution_count": 17,
      "outputs": [
        {
          "output_type": "stream",
          "name": "stdout",
          "text": [
            "+-------------+------+-----+\n",
            "|    categoria|fraude|count|\n",
            "+-------------+------+-----+\n",
            "|transferencia|     0| 9377|\n",
            "|transferencia|     1|15367|\n",
            "+-------------+------+-----+\n",
            "\n"
          ]
        }
      ]
    },
    {
      "cell_type": "code",
      "source": [
        "from pyspark.sql.functions import floor\n",
        "\n",
        "df_flatten.filter(col('fraude') == 1).withColumn(\n",
        "    \"range\",\n",
        "    floor(col(\"valor\")/1000)*1000\n",
        ").groupBy('range').count().orderBy(col('range').desc()).show()"
      ],
      "metadata": {
        "colab": {
          "base_uri": "https://localhost:8080/"
        },
        "id": "qBZF100Jw8hH",
        "outputId": "13c9fc1f-67ea-4679-ce1c-b12387c4cafe"
      },
      "execution_count": 18,
      "outputs": [
        {
          "output_type": "stream",
          "name": "stdout",
          "text": [
            "+-----+-----+\n",
            "|range|count|\n",
            "+-----+-----+\n",
            "|89000|  222|\n",
            "|88000|  208|\n",
            "|87000|  230|\n",
            "|86000|  203|\n",
            "|85000|  205|\n",
            "|84000|  245|\n",
            "|83000|  206|\n",
            "|82000|  206|\n",
            "|81000|  214|\n",
            "|80000|  213|\n",
            "|79000|  205|\n",
            "|78000|  230|\n",
            "|77000|  237|\n",
            "|76000|  232|\n",
            "|75000|  190|\n",
            "|74000|  207|\n",
            "|73000|  237|\n",
            "|72000|  234|\n",
            "|71000|  234|\n",
            "|70000|  222|\n",
            "+-----+-----+\n",
            "only showing top 20 rows\n",
            "\n"
          ]
        }
      ]
    },
    {
      "cell_type": "code",
      "source": [
        "from pyspark.sql.functions import floor, max, min\n",
        "\n",
        "df_flatten.filter(\n",
        "    col('fraude') == 1\n",
        ").withColumn(\n",
        "    \"range\", floor(col(\"valor\")/1000)*1000\n",
        ").select(max('range'), min('range')).show()"
      ],
      "metadata": {
        "colab": {
          "base_uri": "https://localhost:8080/"
        },
        "id": "GQV3FjwQw-hM",
        "outputId": "8f98c9bc-3bde-43b5-ae71-227253b80aca"
      },
      "execution_count": 19,
      "outputs": [
        {
          "output_type": "stream",
          "name": "stdout",
          "text": [
            "+----------+----------+\n",
            "|max(range)|min(range)|\n",
            "+----------+----------+\n",
            "|     89000|     19000|\n",
            "+----------+----------+\n",
            "\n"
          ]
        }
      ]
    },
    {
      "cell_type": "markdown",
      "source": [
        "## Modelo de Predição de Fraudes"
      ],
      "metadata": {
        "id": "3L7PP9eoxBaO"
      }
    },
    {
      "cell_type": "code",
      "source": [
        "from pyspark.sql.functions import col, udf\n",
        "\n",
        "from pyspark.ml import Pipeline\n",
        "from pyspark.ml.feature import StringIndexer, VectorAssembler\n",
        "from pyspark.ml.classification import LogisticRegression"
      ],
      "metadata": {
        "id": "CuuXLlRo0ySq"
      },
      "execution_count": 20,
      "outputs": []
    },
    {
      "cell_type": "code",
      "source": [
        "df = df_flatten.drop('remetente', 'id')"
      ],
      "metadata": {
        "id": "rQjU1fUe0zbJ"
      },
      "execution_count": 21,
      "outputs": []
    },
    {
      "cell_type": "code",
      "source": [
        "indexer = StringIndexer(\n",
        "    inputCols=[\n",
        "        \"destinatario_nome\",\n",
        "        \"destinatario_banco\",\n",
        "        \"destinatario_tipo\",\n",
        "        \"categoria\",\n",
        "        \"chave_pix\"\n",
        "    ],\n",
        "    outputCols=[\n",
        "        \"destinatario_nome_index\",\n",
        "        \"destinatario_banco_index\",\n",
        "        \"destinatario_tipo_index\",\n",
        "        \"categoria_index\",\n",
        "        \"chave_pix_index\"\n",
        "    ])"
      ],
      "metadata": {
        "id": "obXN7rIC01CN"
      },
      "execution_count": 22,
      "outputs": []
    },
    {
      "cell_type": "code",
      "source": [
        "df_index = indexer.fit(df).transform(df)\n",
        "df_index.show()"
      ],
      "metadata": {
        "colab": {
          "base_uri": "https://localhost:8080/"
        },
        "id": "x7PNiIv003v7",
        "outputId": "8ed1b03f-e874-491b-b3a5-70859f11b1e6"
      },
      "execution_count": 23,
      "outputs": [
        {
          "output_type": "stream",
          "name": "stdout",
          "text": [
            "+------------+------------------+---------+-------------+-------------------+------+------------------+---------------+--------------+--------------------+------------------+-----------------+-----------------------+------------------------+-----------------------+---------------+---------------+\n",
            "|id_transacao|             valor|chave_pix|    categoria|   transaction_date|fraude|    remetente_nome|remetente_banco|remetente_tipo|   destinatario_nome|destinatario_banco|destinatario_tipo|destinatario_nome_index|destinatario_banco_index|destinatario_tipo_index|categoria_index|chave_pix_index|\n",
            "+------------+------------------+---------+-------------+-------------------+------+------------------+---------------+--------------+--------------------+------------------+-----------------+-----------------------+------------------------+-----------------------+---------------+---------------+\n",
            "|        1000|            588.08|aleatoria|       outros|2021-07-16 05:00:55|     0|Jonathan Gonsalves|            BTG|            PF|         Calebe Melo|             Caixa|               PF|                12045.0|                     4.0|                    1.0|            6.0|            3.0|\n",
            "|        1001|           80682.5|  celular|transferencia|2022-04-20 12:34:01|     1|Jonathan Gonsalves|            BTG|            PF|  Davi Lucas Pereira|             Caixa|               PJ|                  259.0|                     4.0|                    0.0|            0.0|            2.0|\n",
            "|        1002|             549.9|      cpf|        lazer|2022-07-10 16:51:34|     0|Jonathan Gonsalves|            BTG|            PF|      Sabrina Castro|            Nubank|               PF|                  132.0|                     2.0|                    1.0|            4.0|            1.0|\n",
            "|        1003|             90.83|aleatoria|   transporte|2022-10-20 10:57:36|     0|Jonathan Gonsalves|            BTG|            PF|Francisco da Conc...|            Nubank|               PJ|                10475.0|                     2.0|                    0.0|            8.0|            3.0|\n",
            "|        1004|13272.619999999999|    email|transferencia|2021-04-06 20:26:51|     0|Jonathan Gonsalves|            BTG|            PF|   Isabelly Ferreira|               BTG|               PJ|                 4159.0|                     1.0|                    0.0|            0.0|            0.0|\n",
            "|        1005|           9347.58|aleatoria|        saude|2022-07-24 15:22:27|     0|Jonathan Gonsalves|            BTG|            PF|Srta. Maria da Cunha|              Itau|               PJ|                26853.0|                     3.0|                    0.0|            3.0|            3.0|\n",
            "|        1006|           7836.76|      cpf|    presentes|2022-10-05 19:20:24|     0|Jonathan Gonsalves|            BTG|            PF|     Catarina Duarte|                C6|               PF|                 5578.0|                     5.0|                    1.0|            7.0|            1.0|\n",
            "|        1007|           3883.62|      cpf|    vestuario|2021-04-24 17:36:34|     0|Jonathan Gonsalves|            BTG|            PF|       Vitor Correia|                XP|               PJ|                13528.0|                     0.0|                    0.0|            2.0|            1.0|\n",
            "|        1008|               4.0|aleatoria|        saude|2021-11-16 21:46:47|     0|Jonathan Gonsalves|            BTG|            PF|         Theo Novaes|                C6|               PJ|                 1141.0|                     5.0|                    0.0|            3.0|            3.0|\n",
            "|        1009|              24.3|      cpf|transferencia|2021-07-26 02:08:49|     0|Jonathan Gonsalves|            BTG|            PF|     Isabel Caldeira|                XP|               PJ|                 8369.0|                     0.0|                    0.0|            0.0|            1.0|\n",
            "|        1010|           87555.3|aleatoria|transferencia|2022-03-14 15:34:45|     1|Jonathan Gonsalves|            BTG|            PF|Sr. Henrique Cardoso|            Nubank|               PF|                22115.0|                     2.0|                    1.0|            0.0|            3.0|\n",
            "|        1011|          21345.91|      cpf|transferencia|2021-10-31 04:31:51|     1|Jonathan Gonsalves|            BTG|            PF|   Felipe Cavalcanti|            Nubank|               PJ|                 5897.0|                     2.0|                    0.0|            0.0|            1.0|\n",
            "|        1012|          73605.85|  celular|transferencia|2021-04-30 19:19:56|     1|Jonathan Gonsalves|            BTG|            PF|     Dr. Davi da Luz|          Bradesco|               PJ|                12212.0|                     6.0|                    0.0|            0.0|            2.0|\n",
            "|        1013|             93.53|      cpf|  alimentacao|2023-01-13 13:39:57|     0|Jonathan Gonsalves|            BTG|            PF|    Stephany Cardoso|                C6|               PJ|                   10.0|                     5.0|                    0.0|            1.0|            1.0|\n",
            "|        1014|            564.11|aleatoria|    vestuario|2022-05-27 23:06:08|     0|Jonathan Gonsalves|            BTG|            PF|   Sra. Julia Araujo|              Itau|               PJ|                24413.0|                     3.0|                    0.0|            2.0|            3.0|\n",
            "|        1015|              3.59|    email|        saude|2021-10-06 21:19:58|     0|Jonathan Gonsalves|            BTG|            PF|     Carolina Farias|            Nubank|               PJ|                10121.0|                     2.0|                    0.0|            3.0|            0.0|\n",
            "|        1016|          19164.89|    email|  alimentacao|2022-03-06 17:59:43|     0|Jonathan Gonsalves|            BTG|            PF|   Isabelly da Costa|            Nubank|               PJ|                 6122.0|                     2.0|                    0.0|            1.0|            0.0|\n",
            "|        1017|             68.45|aleatoria|    vestuario|2022-04-01 18:17:40|     0|Jonathan Gonsalves|            BTG|            PF|Joao Miguel Silveira|                C6|               PJ|                 6214.0|                     5.0|                    0.0|            2.0|            3.0|\n",
            "|        1018|            941.25|  celular|    vestuario|2022-05-23 00:28:13|     0|Jonathan Gonsalves|            BTG|            PF|       Matheus Moura|                C6|               PF|                 1829.0|                     5.0|                    1.0|            2.0|            2.0|\n",
            "|        1019|27009.910000000003|    email|transferencia|2021-08-04 23:22:37|     1|Jonathan Gonsalves|            BTG|            PF| Gabrielly Goncalves|              Itau|               PJ|                 5973.0|                     3.0|                    0.0|            0.0|            0.0|\n",
            "+------------+------------------+---------+-------------+-------------------+------+------------------+---------------+--------------+--------------------+------------------+-----------------+-----------------------+------------------------+-----------------------+---------------+---------------+\n",
            "only showing top 20 rows\n",
            "\n"
          ]
        }
      ]
    },
    {
      "cell_type": "code",
      "source": [
        "cols_para_filtrar = [\n",
        "  \"valor\",\n",
        "  \"transaction_date\",\n",
        "  \"destinatario_nome_index\",\n",
        "  \"destinatario_banco_index\",\n",
        "  \"destinatario_tipo_index\",\n",
        "  \"chave_pix_index\",\n",
        "  \"categoria_index\",\n",
        "  \"fraude\"\n",
        "]"
      ],
      "metadata": {
        "id": "L8fxI_YU05oN"
      },
      "execution_count": 24,
      "outputs": []
    },
    {
      "cell_type": "code",
      "source": [
        "is_fraud = df_index.select(cols_para_filtrar).filter(\"fraude == 1\")\n",
        "no_fraud = df_index.select(cols_para_filtrar).filter(\"fraude == 0\")\n",
        "\n",
        "\n",
        "no_fraud = no_fraud.sample(False, 0.01, seed = 123)"
      ],
      "metadata": {
        "id": "m9wIEbRb1H_Y"
      },
      "execution_count": 25,
      "outputs": []
    },
    {
      "cell_type": "code",
      "source": [
        "df_concat = no_fraud.union(is_fraud)\n",
        "df = df_concat.sort(\"transaction_date\")\n",
        "df.count()"
      ],
      "metadata": {
        "colab": {
          "base_uri": "https://localhost:8080/"
        },
        "id": "dKPORcQr1KRz",
        "outputId": "1f4f3cb6-9cb8-4541-d57b-063147a7d324"
      },
      "execution_count": 26,
      "outputs": [
        {
          "output_type": "execute_result",
          "data": {
            "text/plain": [
              "16202"
            ]
          },
          "metadata": {},
          "execution_count": 26
        }
      ]
    },
    {
      "cell_type": "code",
      "source": [
        "train, test = df.randomSplit([0.7, 0.3], seed = 123)\n",
        "print(\"train =\", train.count(), \" test =\", test.count())"
      ],
      "metadata": {
        "colab": {
          "base_uri": "https://localhost:8080/"
        },
        "id": "f2etLtOe1W9m",
        "outputId": "9da0d68d-a745-4e1b-dcab-39c349933da2"
      },
      "execution_count": 27,
      "outputs": [
        {
          "output_type": "stream",
          "name": "stdout",
          "text": [
            "train = 11278  test = 4924\n"
          ]
        }
      ]
    },
    {
      "cell_type": "code",
      "source": [
        "is_fraud = udf(lambda fraud: 1.0 if fraud > 0 else 0.0, DoubleType())\n",
        "train = train.withColumn(\"is_fraud\", is_fraud(train.fraude))"
      ],
      "metadata": {
        "id": "9GXpycn31Yij"
      },
      "execution_count": 28,
      "outputs": []
    },
    {
      "cell_type": "code",
      "source": [
        "# Create the feature vectors.\n",
        "# VectorAssembler is a transformer that combines a given list of columns into a single vector column.\n",
        "assembler = VectorAssembler(\n",
        "  inputCols = [x for x in train.columns if x not in [\"transaction_date\", \"fraude\", \"is_fraud\"]],\n",
        "  outputCol = \"features\")\n",
        "\n",
        "# Use Logistic Regression.\n",
        "# is a machine learning algorithm that is used for classification tasks\n",
        "lr = LogisticRegression().setParams(\n",
        "    maxIter = 100000,\n",
        "    labelCol = \"is_fraud\",\n",
        "    predictionCol = \"prediction\")\n",
        "\n",
        "\n",
        "# This will train a logistic regression model on the input data and return a\n",
        "# LogisticRegressionModel object which can be used to make predictions on new data.\n",
        "model = Pipeline(stages = [assembler, lr]).fit(train)"
      ],
      "metadata": {
        "id": "F7EWZYbX1gLs"
      },
      "execution_count": 29,
      "outputs": []
    },
    {
      "cell_type": "code",
      "source": [
        "predicted = model.transform(test)\n",
        "\n",
        "predicted = predicted.withColumn(\"is_fraud\", is_fraud(predicted.fraude))\n",
        "predicted.crosstab(\"is_fraud\", \"prediction\").show()"
      ],
      "metadata": {
        "colab": {
          "base_uri": "https://localhost:8080/"
        },
        "id": "peYc_0Pc1kx3",
        "outputId": "dcc4674a-b5ec-4251-f9d8-2aeb51221c10"
      },
      "execution_count": 30,
      "outputs": [
        {
          "output_type": "stream",
          "name": "stdout",
          "text": [
            "+-------------------+---+----+\n",
            "|is_fraud_prediction|0.0| 1.0|\n",
            "+-------------------+---+----+\n",
            "|                1.0|  0|4660|\n",
            "|                0.0|262|   2|\n",
            "+-------------------+---+----+\n",
            "\n"
          ]
        }
      ]
    },
    {
      "cell_type": "markdown",
      "source": [
        "# Avaliação do Modelo\n",
        "Será que seu modelo atinge todas as necessidades que foram definidas inicialmente? (e.g. pessoa em cima da bicicleta muda o resultado final)"
      ],
      "metadata": {
        "id": "5x5T7k5D2geU"
      }
    },
    {
      "cell_type": "markdown",
      "source": [
        "# Deployment\n",
        "Apresente o relatório com os resultados obtidos.\n",
        "\n",
        "Foi identificado que o cliente Jonathan Gonsalve tem uma alta taxa de transaferências pix mensal. Através de análise realizadas foi possível perceber que a maior categoria de transação é a transferência bancária.\n",
        "\n",
        "Também foi possível notar que o segundo banco que o cliente mais transaciona é o banco BTG, porém, o mesmo possui o menor valor transacionado, o que indica que o cliente faz muitas transações de menor valor para esse banco.\n",
        "\n",
        "Também foi possível verificar que há um alto índice de tentativas de fraude na conta desse cliente, sendo que todas as tentativas de fraude foram com valores acima de R$19.999,00 e com a categoria de transferência. Por isso, foi criado um algoritimo de machine learning que identifica esses tipos de transações que contém fraude.\n",
        "\n",
        "\n",
        "Conclui-se que há uma alta tentativa de transações com fraude e uma ação possível seria diminuir o limite máximo de transferência de pix do cliente.Possivelmente o cliente esteja usando essa conta PF com propósitos de PJ, devido a alta taxa de transferências s altos valores."
      ],
      "metadata": {
        "id": "A15O3rFe2hdD"
      }
    }
  ]
}