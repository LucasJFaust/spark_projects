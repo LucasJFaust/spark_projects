{
  "nbformat": 4,
  "nbformat_minor": 0,
  "metadata": {
    "colab": {
      "provenance": [],
      "authorship_tag": "ABX9TyMPzn3eZYlpnxd3CW2pbaek",
      "include_colab_link": true
    },
    "kernelspec": {
      "name": "python3",
      "display_name": "Python 3"
    },
    "language_info": {
      "name": "python"
    }
  },
  "cells": [
    {
      "cell_type": "markdown",
      "metadata": {
        "id": "view-in-github",
        "colab_type": "text"
      },
      "source": [
        "<a href=\"https://colab.research.google.com/github/LucasJFaust/spark_projects/blob/main/SparkSQL.ipynb\" target=\"_parent\"><img src=\"https://colab.research.google.com/assets/colab-badge.svg\" alt=\"Open In Colab\"/></a>"
      ]
    },
    {
      "cell_type": "code",
      "execution_count": 1,
      "metadata": {
        "colab": {
          "base_uri": "https://localhost:8080/"
        },
        "id": "slW22gS9O0IE",
        "outputId": "4400c9c9-15eb-47dd-cfd9-9413eaa2c1d4"
      },
      "outputs": [
        {
          "output_type": "stream",
          "name": "stdout",
          "text": [
            "Collecting pyspark\n",
            "  Downloading pyspark-3.5.1.tar.gz (317.0 MB)\n",
            "\u001b[2K     \u001b[90m━━━━━━━━━━━━━━━━━━━━━━━━━━━━━━━━━━━━━━━━\u001b[0m \u001b[32m317.0/317.0 MB\u001b[0m \u001b[31m3.9 MB/s\u001b[0m eta \u001b[36m0:00:00\u001b[0m\n",
            "\u001b[?25h  Preparing metadata (setup.py) ... \u001b[?25l\u001b[?25hdone\n",
            "Requirement already satisfied: py4j==0.10.9.7 in /usr/local/lib/python3.10/dist-packages (from pyspark) (0.10.9.7)\n",
            "Building wheels for collected packages: pyspark\n",
            "  Building wheel for pyspark (setup.py) ... \u001b[?25l\u001b[?25hdone\n",
            "  Created wheel for pyspark: filename=pyspark-3.5.1-py2.py3-none-any.whl size=317488491 sha256=c3611031c0b15acc555b1b3e82137d21be834635d295f9dcfcd500a3e8ecaed6\n",
            "  Stored in directory: /root/.cache/pip/wheels/80/1d/60/2c256ed38dddce2fdd93be545214a63e02fbd8d74fb0b7f3a6\n",
            "Successfully built pyspark\n",
            "Installing collected packages: pyspark\n",
            "Successfully installed pyspark-3.5.1\n"
          ]
        }
      ],
      "source": [
        "! pip install pyspark"
      ]
    },
    {
      "cell_type": "code",
      "source": [
        "from pyspark.sql import SparkSession\n",
        "\n",
        "spark = (\n",
        "    SparkSession.builder\n",
        "      .config('spark.ui.port', '4050')\n",
        "      .appName(\"SparkUI Introdução\")\n",
        "      .getOrCreate()\n",
        ")"
      ],
      "metadata": {
        "id": "JrUAXPBKQq5l"
      },
      "execution_count": 4,
      "outputs": []
    },
    {
      "cell_type": "code",
      "source": [
        "from pyspark.sql.types import StructType, StructField, IntegerType, DoubleType, StringType, TimestampType\n",
        "\n",
        "schema_remetente_destinatario = StructType([\n",
        "    StructField('nome', StringType()),\n",
        "    StructField('banco', StringType()),\n",
        "    StructField('tipo', StringType()),\n",
        "])\n",
        "\n",
        "\n",
        "schema_base_pix = StructType([\n",
        "    StructField('id_transacao', IntegerType()),\n",
        "    StructField('valor', DoubleType()),\n",
        "    StructField('remetente', schema_remetente_destinatario),\n",
        "    StructField('destinatario', schema_remetente_destinatario),\n",
        "    StructField('transaction_date', TimestampType()),\n",
        "    StructField('chave_pix', StringType()),\n",
        "    StructField('fraude', IntegerType())\n",
        "])\n",
        "\n",
        "\n",
        "caminho_json = '/content/pix_transactions.json'\n",
        "\n",
        "df = spark.read.json(\n",
        "    caminho_json,\n",
        "    schema=schema_base_pix,\n",
        "    timestampFormat=\"yyyy-MM-dd\"\n",
        ")\n",
        "\n",
        "\n",
        "spark.read.json(\n",
        "    caminho_json,\n",
        "    schema=schema_base_pix,\n",
        "    timestampFormat=\"yyyy-MM-dd\"\n",
        ").createOrReplaceTempView('transacoes_pix')"
      ],
      "metadata": {
        "id": "-xAuMfPbPcmr"
      },
      "execution_count": 12,
      "outputs": []
    },
    {
      "cell_type": "markdown",
      "source": [
        "- Para usarmos o SQL no Spark basta chamarmos um sessão Spark (lembrando que é a sessão Spark que se comunica com o cluster)"
      ],
      "metadata": {
        "id": "2zPZQUQKRQdL"
      }
    },
    {
      "cell_type": "code",
      "source": [
        "spark.sql(\"select * from transacoes_pix limit 10\").show()"
      ],
      "metadata": {
        "colab": {
          "base_uri": "https://localhost:8080/"
        },
        "id": "FHjxPnaXRK5O",
        "outputId": "05ea7ecf-b39c-4e84-c68f-6090fd57569d"
      },
      "execution_count": 9,
      "outputs": [
        {
          "output_type": "stream",
          "name": "stdout",
          "text": [
            "+------------+-------+--------------------+--------------------+-------------------+---------+------+\n",
            "|id_transacao|  valor|           remetente|        destinatario|   transaction_date|chave_pix|fraude|\n",
            "+------------+-------+--------------------+--------------------+-------------------+---------+------+\n",
            "|        1000|   7.05|{Jonathan Gonsalv...|{Gabriel Cunha, I...|2022-03-19 00:00:00|      cpf|     0|\n",
            "|        1001|  37.28|{Jonathan Gonsalv...|{Diego Souza, XP,...|2021-01-26 00:00:00|aleatoria|     0|\n",
            "|        1002| 282.73|{Jonathan Gonsalv...|{Nicole Nunes, BT...|2022-05-31 00:00:00|aleatoria|     0|\n",
            "|        1003|8447.92|{Jonathan Gonsalv...|{Maria Fernanda C...|2022-07-04 00:00:00|aleatoria|     0|\n",
            "|        1004|  58.51|{Jonathan Gonsalv...|{Isabel Silva, C6...|2021-09-11 00:00:00|aleatoria|     0|\n",
            "|        1005|6655.12|{Jonathan Gonsalv...|{Anthony Carvalho...|2022-02-11 00:00:00|  celular|     0|\n",
            "|        1006|9912.25|{Jonathan Gonsalv...|{Eloah Monteiro, ...|2022-05-10 00:00:00|      cpf|     0|\n",
            "|        1007|8212.91|{Jonathan Gonsalv...|{Sophie Rocha, BT...|2022-08-28 00:00:00|aleatoria|     0|\n",
            "|        1008|  91.71|{Jonathan Gonsalv...|{Pietro Ribeiro, ...|2022-03-23 00:00:00|      cpf|     0|\n",
            "|        1009|  44.29|{Jonathan Gonsalv...|{Eloah Teixeira, ...|2021-09-18 00:00:00|      cpf|     0|\n",
            "+------------+-------+--------------------+--------------------+-------------------+---------+------+\n",
            "\n"
          ]
        }
      ]
    },
    {
      "cell_type": "markdown",
      "source": [
        "- Vamos contar o número de transações para cada chave pix"
      ],
      "metadata": {
        "id": "HVpj2H5qSKwp"
      }
    },
    {
      "cell_type": "code",
      "source": [
        "group_sql = spark.sql(\"select chave_pix, count(*) from transacoes_pix group by chave_pix\")"
      ],
      "metadata": {
        "id": "IEsbBVtvRuAS"
      },
      "execution_count": 14,
      "outputs": []
    },
    {
      "cell_type": "code",
      "source": [
        "group_df = df.groupBy('chave_pix').count()"
      ],
      "metadata": {
        "id": "63IB6IRXS_Lz"
      },
      "execution_count": 15,
      "outputs": []
    },
    {
      "cell_type": "code",
      "source": [
        "group_sql.explain()\n",
        "\n",
        "group_df.explain()"
      ],
      "metadata": {
        "colab": {
          "base_uri": "https://localhost:8080/"
        },
        "id": "sroHAXzuTgKu",
        "outputId": "e497f75b-e8a5-4195-d05d-f3a039b8caf0"
      },
      "execution_count": 16,
      "outputs": [
        {
          "output_type": "stream",
          "name": "stdout",
          "text": [
            "== Physical Plan ==\n",
            "AdaptiveSparkPlan isFinalPlan=false\n",
            "+- HashAggregate(keys=[chave_pix#101], functions=[count(1)])\n",
            "   +- Exchange hashpartitioning(chave_pix#101, 200), ENSURE_REQUIREMENTS, [plan_id=29]\n",
            "      +- HashAggregate(keys=[chave_pix#101], functions=[partial_count(1)])\n",
            "         +- FileScan json [chave_pix#101] Batched: false, DataFilters: [], Format: JSON, Location: InMemoryFileIndex(1 paths)[file:/content/pix_transactions.json], PartitionFilters: [], PushedFilters: [], ReadSchema: struct<chave_pix:string>\n",
            "\n",
            "\n",
            "== Physical Plan ==\n",
            "AdaptiveSparkPlan isFinalPlan=false\n",
            "+- HashAggregate(keys=[chave_pix#87], functions=[count(1)])\n",
            "   +- Exchange hashpartitioning(chave_pix#87, 200), ENSURE_REQUIREMENTS, [plan_id=42]\n",
            "      +- HashAggregate(keys=[chave_pix#87], functions=[partial_count(1)])\n",
            "         +- FileScan json [chave_pix#87] Batched: false, DataFilters: [], Format: JSON, Location: InMemoryFileIndex(1 paths)[file:/content/pix_transactions.json], PartitionFilters: [], PushedFilters: [], ReadSchema: struct<chave_pix:string>\n",
            "\n",
            "\n"
          ]
        }
      ]
    },
    {
      "cell_type": "code",
      "source": [
        "group_sql.show()\n",
        "\n",
        "group_df.show()"
      ],
      "metadata": {
        "colab": {
          "base_uri": "https://localhost:8080/"
        },
        "id": "B9bko6MFT2hc",
        "outputId": "16beb78f-aeb0-4c50-8304-8237ebb48586"
      },
      "execution_count": 17,
      "outputs": [
        {
          "output_type": "stream",
          "name": "stdout",
          "text": [
            "+---------+--------+\n",
            "|chave_pix|count(1)|\n",
            "+---------+--------+\n",
            "|aleatoria|   25045|\n",
            "|  celular|   24841|\n",
            "|    email|   24935|\n",
            "|      cpf|   25179|\n",
            "+---------+--------+\n",
            "\n",
            "+---------+-----+\n",
            "|chave_pix|count|\n",
            "+---------+-----+\n",
            "|aleatoria|25045|\n",
            "|  celular|24841|\n",
            "|    email|24935|\n",
            "|      cpf|25179|\n",
            "+---------+-----+\n",
            "\n"
          ]
        }
      ]
    },
    {
      "cell_type": "code",
      "source": [
        "spark.sql(\n",
        "    \"\"\"\n",
        "    select\n",
        "      chave_pix,\n",
        "      round(avg(valor), 3)\n",
        "    from transacoes_pix\n",
        "    group by 1\n",
        "    order by 2\n",
        "    \"\"\"\n",
        ").show()"
      ],
      "metadata": {
        "colab": {
          "base_uri": "https://localhost:8080/"
        },
        "id": "smPzFI47UC42",
        "outputId": "bbb65a57-703f-417b-ea09-033fcf64f935"
      },
      "execution_count": 22,
      "outputs": [
        {
          "output_type": "stream",
          "name": "stdout",
          "text": [
            "+---------+--------------------+\n",
            "|chave_pix|round(avg(valor), 3)|\n",
            "+---------+--------------------+\n",
            "|    email|           11868.017|\n",
            "|      cpf|           11946.072|\n",
            "|  celular|            12152.68|\n",
            "|aleatoria|           12217.234|\n",
            "+---------+--------------------+\n",
            "\n"
          ]
        }
      ]
    },
    {
      "cell_type": "markdown",
      "source": [
        "- Quantidades de transações feitas para cada chave pix:"
      ],
      "metadata": {
        "id": "ZhWzO4T1aNjz"
      }
    },
    {
      "cell_type": "code",
      "source": [
        "spark.sql(\n",
        "    \"\"\"\n",
        "    select\n",
        "      chave_pix,\n",
        "      count(*)\n",
        "    from transacoes_pix\n",
        "    group by 1\n",
        "    order by 1 desc\n",
        "    \"\"\"\n",
        ").show()"
      ],
      "metadata": {
        "colab": {
          "base_uri": "https://localhost:8080/"
        },
        "id": "c8FszFbDZwXx",
        "outputId": "be518a59-6935-4f58-e7a7-edefc35a6178"
      },
      "execution_count": 24,
      "outputs": [
        {
          "output_type": "stream",
          "name": "stdout",
          "text": [
            "+---------+--------+\n",
            "|chave_pix|count(1)|\n",
            "+---------+--------+\n",
            "|    email|   24935|\n",
            "|      cpf|   25179|\n",
            "|  celular|   24841|\n",
            "|aleatoria|   25045|\n",
            "+---------+--------+\n",
            "\n"
          ]
        }
      ]
    },
    {
      "cell_type": "markdown",
      "source": [
        "- Quantidades de transações feitas para cada chave pix e quando o valor for maior qu e 10 mil:"
      ],
      "metadata": {
        "id": "zHGUifIWbAxw"
      }
    },
    {
      "cell_type": "code",
      "source": [
        "spark.sql(\n",
        "    \"\"\"\n",
        "    select\n",
        "      chave_pix,\n",
        "      count(*) as count_maior_10000\n",
        "    from transacoes_pix\n",
        "    where valor > 10000\n",
        "    group by 1\n",
        "    order by 1 desc\n",
        "    \"\"\"\n",
        ").show()"
      ],
      "metadata": {
        "colab": {
          "base_uri": "https://localhost:8080/"
        },
        "id": "47H3hKo8a0km",
        "outputId": "babb6142-26b4-498d-aadb-a1a835a50594"
      },
      "execution_count": 26,
      "outputs": [
        {
          "output_type": "stream",
          "name": "stdout",
          "text": [
            "+---------+-----------------+\n",
            "|chave_pix|count_maior_10000|\n",
            "+---------+-----------------+\n",
            "|    email|             4830|\n",
            "|      cpf|             4950|\n",
            "|  celular|             4922|\n",
            "|aleatoria|             5032|\n",
            "+---------+-----------------+\n",
            "\n"
          ]
        }
      ]
    },
    {
      "cell_type": "markdown",
      "source": [
        "# Window Function e CTE's"
      ],
      "metadata": {
        "id": "T7Snxc9_bwle"
      }
    },
    {
      "cell_type": "markdown",
      "source": [
        "- Digamos que eu queira saber quais são as duas transações mais altas por banco da parte que foi creditada.\n",
        "\n",
        "- Para isso vamos usar o row number que faz parte das windows functions. Ele vai colocar um index para cada transação dentro de uma janela de dados. Eu quero criar uma janela de dados para cada banco e dentro dessa janela eu quero ordenar pelo valor maior para o menor, onde o valor maior vai ter o index 1, assim por diante.\n",
        "\n",
        "- Para fazer o filtro vamos usar CTE's que são tabelas temporárias onde podemos aplicar filtro com um subselect"
      ],
      "metadata": {
        "id": "RFrjXXmrcFf-"
      }
    },
    {
      "cell_type": "code",
      "source": [
        "spark.sql(\n",
        "    \"\"\"\n",
        "    select\n",
        "      destinatario.banco,\n",
        "      valor,\n",
        "    row_number() over (partition by destinatario.banco order by valor desc) as row_number\n",
        "    from transacoes_pix\n",
        "    limit 10\n",
        "    \"\"\"\n",
        ").show()"
      ],
      "metadata": {
        "colab": {
          "base_uri": "https://localhost:8080/"
        },
        "id": "PiBUH9iJbRA3",
        "outputId": "23e0a0af-06bc-490f-8187-71aaf379dfe8"
      },
      "execution_count": 27,
      "outputs": [
        {
          "output_type": "stream",
          "name": "stdout",
          "text": [
            "+-----+--------+----------+\n",
            "|banco|   valor|row_number|\n",
            "+-----+--------+----------+\n",
            "|  BTG|99946.78|         1|\n",
            "|  BTG| 99913.9|         2|\n",
            "|  BTG|99873.58|         3|\n",
            "|  BTG|99865.12|         4|\n",
            "|  BTG|99840.68|         5|\n",
            "|  BTG|99832.08|         6|\n",
            "|  BTG| 99829.9|         7|\n",
            "|  BTG|99814.23|         8|\n",
            "|  BTG|99813.42|         9|\n",
            "|  BTG|99785.91|        10|\n",
            "+-----+--------+----------+\n",
            "\n"
          ]
        }
      ]
    },
    {
      "source": [
        "spark.sql(\n",
        "    \"\"\"\n",
        "    with cte_base_window as (\n",
        "    select\n",
        "      destinatario.banco,\n",
        "      valor,\n",
        "    row_number() over (partition by destinatario.banco order by valor desc) as row_number\n",
        "    from transacoes_pix\n",
        "    ) select\n",
        "        banco,\n",
        "        valor\n",
        "      from cte_base_window\n",
        "      where row_number in (1,2)\n",
        "    \"\"\"\n",
        ").show()"
      ],
      "cell_type": "code",
      "metadata": {
        "colab": {
          "base_uri": "https://localhost:8080/"
        },
        "id": "sEhrRyRffQB1",
        "outputId": "b29e7c77-cc6d-490e-f816-316e1b3e7b8c"
      },
      "execution_count": 29,
      "outputs": [
        {
          "output_type": "stream",
          "name": "stdout",
          "text": [
            "+--------+--------+\n",
            "|   banco|   valor|\n",
            "+--------+--------+\n",
            "|     BTG|99946.78|\n",
            "|     BTG| 99913.9|\n",
            "|Bradesco|99910.87|\n",
            "|Bradesco|99887.88|\n",
            "|      C6|99980.03|\n",
            "|      C6|99964.99|\n",
            "|   Caixa|99969.06|\n",
            "|   Caixa|99933.09|\n",
            "|    Itau|99999.54|\n",
            "|    Itau|99951.02|\n",
            "|  Nubank|99935.45|\n",
            "|  Nubank|99914.35|\n",
            "|      XP|99961.28|\n",
            "|      XP|99934.01|\n",
            "+--------+--------+\n",
            "\n"
          ]
        }
      ]
    },
    {
      "cell_type": "markdown",
      "source": [
        "- Agora vamos usar uma query e um dataframe spark na mesma função."
      ],
      "metadata": {
        "id": "wygzHeb-f_7o"
      }
    },
    {
      "cell_type": "code",
      "source": [
        "df_row_number = spark.sql(\"\"\"\n",
        "  select\n",
        "    destinatario.banco,\n",
        "    valor,\n",
        "    row_number() over (partition by destinatario.banco order by valor desc) as row_number\n",
        "  from transacoes_pix\n",
        "\"\"\"\n",
        ")"
      ],
      "metadata": {
        "id": "k7FBxW_RevoU"
      },
      "execution_count": 30,
      "outputs": []
    },
    {
      "cell_type": "code",
      "source": [
        "df_row_number.show()"
      ],
      "metadata": {
        "colab": {
          "base_uri": "https://localhost:8080/"
        },
        "id": "pFy_PDEFgmlK",
        "outputId": "126e9f9f-f2eb-4219-9a10-4a32d96c0222"
      },
      "execution_count": 31,
      "outputs": [
        {
          "output_type": "stream",
          "name": "stdout",
          "text": [
            "+-----+--------+----------+\n",
            "|banco|   valor|row_number|\n",
            "+-----+--------+----------+\n",
            "|  BTG|99946.78|         1|\n",
            "|  BTG| 99913.9|         2|\n",
            "|  BTG|99873.58|         3|\n",
            "|  BTG|99865.12|         4|\n",
            "|  BTG|99840.68|         5|\n",
            "|  BTG|99832.08|         6|\n",
            "|  BTG| 99829.9|         7|\n",
            "|  BTG|99814.23|         8|\n",
            "|  BTG|99813.42|         9|\n",
            "|  BTG|99785.91|        10|\n",
            "|  BTG|99754.22|        11|\n",
            "|  BTG|99750.69|        12|\n",
            "|  BTG|99724.27|        13|\n",
            "|  BTG|99711.66|        14|\n",
            "|  BTG|99708.06|        15|\n",
            "|  BTG|99684.07|        16|\n",
            "|  BTG|99677.36|        17|\n",
            "|  BTG|99648.38|        18|\n",
            "|  BTG|99635.23|        19|\n",
            "|  BTG|99628.33|        20|\n",
            "+-----+--------+----------+\n",
            "only showing top 20 rows\n",
            "\n"
          ]
        }
      ]
    },
    {
      "cell_type": "code",
      "source": [
        "from pyspark.sql.functions import col\n",
        "df_row_number.filter(col('row_number').isin([1,2])).show()"
      ],
      "metadata": {
        "colab": {
          "base_uri": "https://localhost:8080/"
        },
        "id": "lxrwR4YhgqzV",
        "outputId": "1d023be0-c1ad-476b-dd80-23e125b9fefb"
      },
      "execution_count": 33,
      "outputs": [
        {
          "output_type": "stream",
          "name": "stdout",
          "text": [
            "+--------+--------+----------+\n",
            "|   banco|   valor|row_number|\n",
            "+--------+--------+----------+\n",
            "|     BTG|99946.78|         1|\n",
            "|     BTG| 99913.9|         2|\n",
            "|Bradesco|99910.87|         1|\n",
            "|Bradesco|99887.88|         2|\n",
            "|      C6|99980.03|         1|\n",
            "|      C6|99964.99|         2|\n",
            "|   Caixa|99969.06|         1|\n",
            "|   Caixa|99933.09|         2|\n",
            "|    Itau|99999.54|         1|\n",
            "|    Itau|99951.02|         2|\n",
            "|  Nubank|99935.45|         1|\n",
            "|  Nubank|99914.35|         2|\n",
            "|      XP|99961.28|         1|\n",
            "|      XP|99934.01|         2|\n",
            "+--------+--------+----------+\n",
            "\n"
          ]
        }
      ]
    },
    {
      "cell_type": "code",
      "source": [],
      "metadata": {
        "id": "ndZpUhgKhG0b"
      },
      "execution_count": null,
      "outputs": []
    }
  ]
}