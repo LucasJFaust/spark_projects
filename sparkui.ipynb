{
  "nbformat": 4,
  "nbformat_minor": 0,
  "metadata": {
    "colab": {
      "provenance": [],
      "authorship_tag": "ABX9TyP29g6FZjAGjTaT/mGsdZtx",
      "include_colab_link": true
    },
    "kernelspec": {
      "name": "python3",
      "display_name": "Python 3"
    },
    "language_info": {
      "name": "python"
    }
  },
  "cells": [
    {
      "cell_type": "markdown",
      "metadata": {
        "id": "view-in-github",
        "colab_type": "text"
      },
      "source": [
        "<a href=\"https://colab.research.google.com/github/LucasJFaust/spark_projects/blob/main/sparkui.ipynb\" target=\"_parent\"><img src=\"https://colab.research.google.com/assets/colab-badge.svg\" alt=\"Open In Colab\"/></a>"
      ]
    },
    {
      "cell_type": "markdown",
      "source": [
        "# SparkUI\n",
        "É uma ferramenta fornecida pelo Spark onde podemos ver em tempo real como está o processamento dos nossos dados. Conseguimos verificar:\n",
        "\n",
        "- Jobs: É o objetivo final que queremos com o nosso código\n",
        "- Stage: São varios conjuntos de taks que estão sendo rodadas em paralelo\n",
        "- Tasks: São os processamentos que podem ser rodados em paralelo\n",
        "\n",
        "Vamos instalar o ngrok, que é uma ferramente que nos permite acessar o SparkUI através do google colab."
      ],
      "metadata": {
        "id": "zM59e6RT8rQH"
      }
    },
    {
      "cell_type": "code",
      "execution_count": 1,
      "metadata": {
        "colab": {
          "base_uri": "https://localhost:8080/"
        },
        "id": "FdmacXYs8gc1",
        "outputId": "facade53-e356-432c-abb9-6ca6cda21c9f"
      },
      "outputs": [
        {
          "output_type": "stream",
          "name": "stdout",
          "text": [
            "Collecting pyspark\n",
            "  Downloading pyspark-3.5.1.tar.gz (317.0 MB)\n",
            "\u001b[2K     \u001b[90m━━━━━━━━━━━━━━━━━━━━━━━━━━━━━━━━━━━━━━━━\u001b[0m \u001b[32m317.0/317.0 MB\u001b[0m \u001b[31m3.8 MB/s\u001b[0m eta \u001b[36m0:00:00\u001b[0m\n",
            "\u001b[?25h  Preparing metadata (setup.py) ... \u001b[?25l\u001b[?25hdone\n",
            "Requirement already satisfied: py4j==0.10.9.7 in /usr/local/lib/python3.10/dist-packages (from pyspark) (0.10.9.7)\n",
            "Building wheels for collected packages: pyspark\n",
            "  Building wheel for pyspark (setup.py) ... \u001b[?25l\u001b[?25hdone\n",
            "  Created wheel for pyspark: filename=pyspark-3.5.1-py2.py3-none-any.whl size=317488491 sha256=834e53c983e11d3ce1d36903dc91d5c9fc22a5e2f6cf2fd7e28970971ca9f065\n",
            "  Stored in directory: /root/.cache/pip/wheels/80/1d/60/2c256ed38dddce2fdd93be545214a63e02fbd8d74fb0b7f3a6\n",
            "Successfully built pyspark\n",
            "Installing collected packages: pyspark\n",
            "Successfully installed pyspark-3.5.1\n"
          ]
        }
      ],
      "source": [
        "!pip install pyspark"
      ]
    },
    {
      "cell_type": "code",
      "source": [
        "!wget -qnc https://bin.equinox.io/c/4VmDzA7iaHb/ngrok-stable-linux-amd64.zip\n",
        "!unzip -n -q ngrok-stable-linux-amd64.zip"
      ],
      "metadata": {
        "id": "O0sjaQxX85ot"
      },
      "execution_count": 2,
      "outputs": []
    },
    {
      "cell_type": "code",
      "source": [
        "from pyspark.sql import SparkSession\n",
        "\n",
        "spark = (\n",
        "    SparkSession.builder\n",
        "      .config('spark.ui.port', '4050')\n",
        "      .appName(\"SparkUI Introdução\")\n",
        "      .getOrCreate()\n",
        ")"
      ],
      "metadata": {
        "id": "jJYyGxPwGivC"
      },
      "execution_count": 3,
      "outputs": []
    },
    {
      "cell_type": "code",
      "source": [
        "!./ngrok authtoken 2fQl2pcXUL5uSLm773AvMAigDtb_7RR7VwxVaUERSnbAz3U1k\n",
        "get_ipython().system_raw('./ngrok http 4050 &')\n",
        "!sleep 10\n",
        "!curl -s http://localhost:4040/api/tunnels | grep -Po 'public_url\":\"(?=https)\\K[^\"]*'"
      ],
      "metadata": {
        "colab": {
          "base_uri": "https://localhost:8080/"
        },
        "id": "bdaacVLSGnUz",
        "outputId": "e8cc1db3-dd71-4e6c-c17e-fc65b7c2f906"
      },
      "execution_count": 4,
      "outputs": [
        {
          "output_type": "stream",
          "name": "stdout",
          "text": [
            "Authtoken saved to configuration file: /root/.ngrok2/ngrok.yml\n"
          ]
        }
      ]
    },
    {
      "cell_type": "code",
      "source": [
        "import requests\n",
        "\n",
        "response = requests.get('http://localhost:4040/api/tunnels')\n",
        "data = response.json()\n",
        "public_url = data['tunnels'][0]['public_url']\n",
        "print(public_url)"
      ],
      "metadata": {
        "id": "FuTA6Vj_IbPD"
      },
      "execution_count": null,
      "outputs": []
    },
    {
      "cell_type": "code",
      "source": [
        "# {\n",
        "#     \"id_transacao\": 1000,\n",
        "#     \"valor\": \"58931.97\",\n",
        "#     \"remetente\": {\"nome\": \"Jonathan Gonsalves\", \"banco\": \"BTG\", \"tipo\": \"PF\"},\n",
        "#     \"destinatario\": {\"nome\": \"Emanuella Moura\", \"banco\": \"Itau\", \"tipo\": \"PJ\"},\n",
        "#     \"transaction_date\": \"2021-06-02\",\n",
        "#     \"chave_pix\": \"aleatoria\",\n",
        "#     \"fraude\": \"1\"\n",
        "# }"
      ],
      "metadata": {
        "id": "nfauJmONs0zP"
      },
      "execution_count": null,
      "outputs": []
    },
    {
      "cell_type": "code",
      "source": [
        "from pyspark.sql.types import StructType, StructField, IntegerType, DoubleType, StringType, TimestampType\n",
        "\n",
        "schema_remetente_destinatario = StructType([\n",
        "    StructField('nome', StringType()),\n",
        "    StructField('banco', StringType()),\n",
        "    StructField('tipo', StringType()),\n",
        "])\n",
        "\n",
        "\n",
        "schema_base_pix = StructType([\n",
        "    StructField('id_transacao', IntegerType()),\n",
        "    StructField('valor', DoubleType()),\n",
        "    StructField('remetente', schema_remetente_destinatario),\n",
        "    StructField('destinatario', schema_remetente_destinatario),\n",
        "    StructField('transaction_date', TimestampType()),\n",
        "    StructField('chave_pix', StringType()),\n",
        "    StructField('fraude', IntegerType())\n",
        "])\n",
        "\n",
        "\n",
        "caminho_json = '/content/pix_transactions.json'\n",
        "\n",
        "df = spark.read.json(\n",
        "    caminho_json,\n",
        "    schema=schema_base_pix,\n",
        "    timestampFormat=\"yyyy-MM-dd\"\n",
        ")"
      ],
      "metadata": {
        "id": "ugE85zQus9lF"
      },
      "execution_count": 6,
      "outputs": []
    },
    {
      "cell_type": "code",
      "source": [
        "df.show()"
      ],
      "metadata": {
        "colab": {
          "base_uri": "https://localhost:8080/"
        },
        "id": "L_mr-YBvuF0x",
        "outputId": "fbb69b6a-b59c-4acc-9fa2-2f5ac0db177a"
      },
      "execution_count": 7,
      "outputs": [
        {
          "output_type": "stream",
          "name": "stdout",
          "text": [
            "+------------+--------+--------------------+--------------------+-------------------+---------+------+\n",
            "|id_transacao|   valor|           remetente|        destinatario|   transaction_date|chave_pix|fraude|\n",
            "+------------+--------+--------------------+--------------------+-------------------+---------+------+\n",
            "|        1000|    7.05|{Jonathan Gonsalv...|{Gabriel Cunha, I...|2022-03-19 00:00:00|      cpf|     0|\n",
            "|        1001|   37.28|{Jonathan Gonsalv...|{Diego Souza, XP,...|2021-01-26 00:00:00|aleatoria|     0|\n",
            "|        1002|  282.73|{Jonathan Gonsalv...|{Nicole Nunes, BT...|2022-05-31 00:00:00|aleatoria|     0|\n",
            "|        1003| 8447.92|{Jonathan Gonsalv...|{Maria Fernanda C...|2022-07-04 00:00:00|aleatoria|     0|\n",
            "|        1004|   58.51|{Jonathan Gonsalv...|{Isabel Silva, C6...|2021-09-11 00:00:00|aleatoria|     0|\n",
            "|        1005| 6655.12|{Jonathan Gonsalv...|{Anthony Carvalho...|2022-02-11 00:00:00|  celular|     0|\n",
            "|        1006| 9912.25|{Jonathan Gonsalv...|{Eloah Monteiro, ...|2022-05-10 00:00:00|      cpf|     0|\n",
            "|        1007| 8212.91|{Jonathan Gonsalv...|{Sophie Rocha, BT...|2022-08-28 00:00:00|aleatoria|     0|\n",
            "|        1008|   91.71|{Jonathan Gonsalv...|{Pietro Ribeiro, ...|2022-03-23 00:00:00|      cpf|     0|\n",
            "|        1009|   44.29|{Jonathan Gonsalv...|{Eloah Teixeira, ...|2021-09-18 00:00:00|      cpf|     0|\n",
            "|        1010|     8.2|{Jonathan Gonsalv...|{Emanuella Sales,...|2022-11-10 00:00:00|    email|     0|\n",
            "|        1011|    1.69|{Jonathan Gonsalv...|{Valentina Campos...|2021-07-15 00:00:00|    email|     0|\n",
            "|        1012|  442.76|{Jonathan Gonsalv...|{Stella Araujo, X...|2021-11-14 00:00:00|    email|     0|\n",
            "|        1013|    5.02|{Jonathan Gonsalv...|{Benicio Costela,...|2022-11-15 00:00:00|aleatoria|     0|\n",
            "|        1014|79576.33|{Jonathan Gonsalv...|{Joao Fernandes, ...|2021-03-13 00:00:00|      cpf|     1|\n",
            "|        1015|   96.61|{Jonathan Gonsalv...|{Gabriela da Roch...|2022-08-05 00:00:00|    email|     0|\n",
            "|        1016|   16.92|{Jonathan Gonsalv...|{Larissa Aragao, ...|2022-09-01 00:00:00|  celular|     0|\n",
            "|        1017| 7128.87|{Jonathan Gonsalv...|{Theo Dias, BTG, PJ}|2022-02-02 00:00:00|  celular|     0|\n",
            "|        1018| 1658.63|{Jonathan Gonsalv...|{Danilo Jesus, XP...|2021-08-11 00:00:00|aleatoria|     0|\n",
            "|        1019| 3935.92|{Jonathan Gonsalv...|{Bruno Correia, C...|2022-07-14 00:00:00|  celular|     0|\n",
            "+------------+--------+--------------------+--------------------+-------------------+---------+------+\n",
            "only showing top 20 rows\n",
            "\n"
          ]
        }
      ]
    },
    {
      "cell_type": "code",
      "source": [
        "df.select('destinatario.nome').show()"
      ],
      "metadata": {
        "colab": {
          "base_uri": "https://localhost:8080/"
        },
        "id": "tbzZkK09uIZb",
        "outputId": "0c087b6c-e705-40d4-ff6c-d8fc7a9911d3"
      },
      "execution_count": 10,
      "outputs": [
        {
          "output_type": "stream",
          "name": "stdout",
          "text": [
            "+--------------------+\n",
            "|                nome|\n",
            "+--------------------+\n",
            "|       Gabriel Cunha|\n",
            "|         Diego Souza|\n",
            "|        Nicole Nunes|\n",
            "|Maria Fernanda Ca...|\n",
            "|        Isabel Silva|\n",
            "|    Anthony Carvalho|\n",
            "|      Eloah Monteiro|\n",
            "|        Sophie Rocha|\n",
            "|      Pietro Ribeiro|\n",
            "|      Eloah Teixeira|\n",
            "|     Emanuella Sales|\n",
            "|    Valentina Campos|\n",
            "|       Stella Araujo|\n",
            "|     Benicio Costela|\n",
            "|      Joao Fernandes|\n",
            "|   Gabriela da Rocha|\n",
            "|      Larissa Aragao|\n",
            "|           Theo Dias|\n",
            "|        Danilo Jesus|\n",
            "|       Bruno Correia|\n",
            "+--------------------+\n",
            "only showing top 20 rows\n",
            "\n"
          ]
        }
      ]
    },
    {
      "cell_type": "code",
      "source": [
        "df.write.mode('overwrite').partitionBy('chave_pix').parquet('outpute/pix')"
      ],
      "metadata": {
        "id": "ddFCsjq-uT_I"
      },
      "execution_count": 12,
      "outputs": []
    },
    {
      "cell_type": "code",
      "source": [],
      "metadata": {
        "id": "1Oa2vfL8xeNq"
      },
      "execution_count": null,
      "outputs": []
    }
  ]
}